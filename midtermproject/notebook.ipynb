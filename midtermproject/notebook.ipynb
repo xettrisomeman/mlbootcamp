{
 "cells": [
  {
   "cell_type": "code",
   "execution_count": 1,
   "metadata": {
    "executionInfo": {
     "elapsed": 697,
     "status": "ok",
     "timestamp": 1635083515329,
     "user": {
      "displayName": "Flask App",
      "photoUrl": "https://lh3.googleusercontent.com/a/default-user=s64",
      "userId": "09047240091770501577"
     },
     "user_tz": -345
    },
    "id": "4_ukLEmjjdc7"
   },
   "outputs": [],
   "source": [
    "import pandas as pd\n"
   ]
  },
  {
   "cell_type": "code",
   "execution_count": null,
   "metadata": {},
   "outputs": [],
   "source": [
    "!pwd"
   ]
  },
  {
   "cell_type": "code",
   "execution_count": 2,
   "metadata": {
    "colab": {
     "base_uri": "https://localhost:8080/"
    },
    "executionInfo": {
     "elapsed": 42,
     "status": "ok",
     "timestamp": 1635083515330,
     "user": {
      "displayName": "Flask App",
      "photoUrl": "https://lh3.googleusercontent.com/a/default-user=s64",
      "userId": "09047240091770501577"
     },
     "user_tz": -345
    },
    "id": "aTDa0wO6ka9T",
    "outputId": "8c150c97-4d38-4973-ef46-13eac304a251"
   },
   "outputs": [
    {
     "data": {
      "text/plain": [
       "'\\nfrom google.colab import drive\\nimport os\\ndrive.mount(\\'/content/drive\\')\\nos.chdir(\"/content/drive/MyDrive/zoomcamp\")\\n\\n'"
      ]
     },
     "execution_count": 2,
     "metadata": {},
     "output_type": "execute_result"
    }
   ],
   "source": [
    "## colab\n",
    "\"\"\"\n",
    "from google.colab import drive\n",
    "import os\n",
    "drive.mount('/content/drive')\n",
    "os.chdir(\"/content/drive/MyDrive/zoomcamp\")\n",
    "\n",
    "\"\"\""
   ]
  },
  {
   "cell_type": "markdown",
   "metadata": {
    "id": "wQtZAklv9MoV"
   },
   "source": [
    "# Data Cleaning And EDA"
   ]
  },
  {
   "cell_type": "code",
   "execution_count": 10,
   "metadata": {
    "executionInfo": {
     "elapsed": 773,
     "status": "ok",
     "timestamp": 1635083516094,
     "user": {
      "displayName": "Flask App",
      "photoUrl": "https://lh3.googleusercontent.com/a/default-user=s64",
      "userId": "09047240091770501577"
     },
     "user_tz": -345
    },
    "id": "k7dnc-GFj-Py"
   },
   "outputs": [],
   "source": [
    "df = pd.read_csv(\"nepali_news_classification.csv\")"
   ]
  },
  {
   "cell_type": "code",
   "execution_count": 11,
   "metadata": {
    "colab": {
     "base_uri": "https://localhost:8080/",
     "height": 206
    },
    "executionInfo": {
     "elapsed": 19,
     "status": "ok",
     "timestamp": 1635083516096,
     "user": {
      "displayName": "Flask App",
      "photoUrl": "https://lh3.googleusercontent.com/a/default-user=s64",
      "userId": "09047240091770501577"
     },
     "user_tz": -345
    },
    "id": "zT9oXUjQj_kV",
    "outputId": "13571db5-35b4-40c6-fd98-33ce7b050ff2"
   },
   "outputs": [
    {
     "data": {
      "text/html": [
       "<div>\n",
       "<style scoped>\n",
       "    .dataframe tbody tr th:only-of-type {\n",
       "        vertical-align: middle;\n",
       "    }\n",
       "\n",
       "    .dataframe tbody tr th {\n",
       "        vertical-align: top;\n",
       "    }\n",
       "\n",
       "    .dataframe thead th {\n",
       "        text-align: right;\n",
       "    }\n",
       "</style>\n",
       "<table border=\"1\" class=\"dataframe\">\n",
       "  <thead>\n",
       "    <tr style=\"text-align: right;\">\n",
       "      <th></th>\n",
       "      <th>headings</th>\n",
       "      <th>paras</th>\n",
       "      <th>label</th>\n",
       "    </tr>\n",
       "  </thead>\n",
       "  <tbody>\n",
       "    <tr>\n",
       "      <th>0</th>\n",
       "      <td>कर्णालीका सुइना</td>\n",
       "      <td>उमेरले ७० कटेका पूर्णबहादुर विश्वकर्मा ७ वर्षी...</td>\n",
       "      <td>entertainment</td>\n",
       "    </tr>\n",
       "    <tr>\n",
       "      <th>1</th>\n",
       "      <td>साकुराजस्तो प्रेमकथा</td>\n",
       "      <td>जापान भन्नेबित्तिकै पैंयु साकुरा फूलको चर्चा ह...</td>\n",
       "      <td>entertainment</td>\n",
       "    </tr>\n",
       "    <tr>\n",
       "      <th>2</th>\n",
       "      <td>भद्रगोल नै ट्रेन्डिङमा</td>\n",
       "      <td>नेपाल टेलिभिजनबाट हरेक शुक्रबार साँझ प्रसारण ह...</td>\n",
       "      <td>entertainment</td>\n",
       "    </tr>\n",
       "    <tr>\n",
       "      <th>3</th>\n",
       "      <td>फेरिए लोकभाका चर्चामा सामाजिक गीत</td>\n",
       "      <td>दोहोरी भन्नासाथ सोचिन्छ, यो केटा–केटीबीचको जुह...</td>\n",
       "      <td>entertainment</td>\n",
       "    </tr>\n",
       "    <tr>\n",
       "      <th>4</th>\n",
       "      <td>भूकम्पले भत्केको सपना</td>\n",
       "      <td>च्यान्टे र मनमायाको स्थानीय परम्पराअनुसार विवा...</td>\n",
       "      <td>entertainment</td>\n",
       "    </tr>\n",
       "  </tbody>\n",
       "</table>\n",
       "</div>"
      ],
      "text/plain": [
       "                            headings  ...          label\n",
       "0                    कर्णालीका सुइना  ...  entertainment\n",
       "1               साकुराजस्तो प्रेमकथा  ...  entertainment\n",
       "2             भद्रगोल नै ट्रेन्डिङमा  ...  entertainment\n",
       "3  फेरिए लोकभाका चर्चामा सामाजिक गीत  ...  entertainment\n",
       "4              भूकम्पले भत्केको सपना  ...  entertainment\n",
       "\n",
       "[5 rows x 3 columns]"
      ]
     },
     "execution_count": 11,
     "metadata": {},
     "output_type": "execute_result"
    }
   ],
   "source": [
    "df.head()"
   ]
  },
  {
   "cell_type": "code",
   "execution_count": 12,
   "metadata": {
    "executionInfo": {
     "elapsed": 873,
     "status": "ok",
     "timestamp": 1635083516954,
     "user": {
      "displayName": "Flask App",
      "photoUrl": "https://lh3.googleusercontent.com/a/default-user=s64",
      "userId": "09047240091770501577"
     },
     "user_tz": -345
    },
    "id": "ekx7YXA3kSDl"
   },
   "outputs": [],
   "source": [
    "import matplotlib.pyplot as plt\n",
    "import seaborn as sns"
   ]
  },
  {
   "cell_type": "code",
   "execution_count": 13,
   "metadata": {
    "executionInfo": {
     "elapsed": 38,
     "status": "ok",
     "timestamp": 1635083516955,
     "user": {
      "displayName": "Flask App",
      "photoUrl": "https://lh3.googleusercontent.com/a/default-user=s64",
      "userId": "09047240091770501577"
     },
     "user_tz": -345
    },
    "id": "F7mB_WbjkWxq"
   },
   "outputs": [],
   "source": [
    "# remove heading\n",
    "\n",
    "df = df.drop(\"headings\", axis=1)"
   ]
  },
  {
   "cell_type": "code",
   "execution_count": 14,
   "metadata": {
    "executionInfo": {
     "elapsed": 38,
     "status": "ok",
     "timestamp": 1635083516956,
     "user": {
      "displayName": "Flask App",
      "photoUrl": "https://lh3.googleusercontent.com/a/default-user=s64",
      "userId": "09047240091770501577"
     },
     "user_tz": -345
    },
    "id": "QasH0GOXkqmi"
   },
   "outputs": [],
   "source": [
    "# change labels to integer\n",
    "# note: it is not necessary to change labels to integer , but for simplicity we are changing .\n",
    "\n",
    "def change_to_integer(label):\n",
    "  if label == \"entertainment\":\n",
    "    return 0\n",
    "  elif label == \"business\":\n",
    "    return 1\n",
    "  return 2"
   ]
  },
  {
   "cell_type": "code",
   "execution_count": 15,
   "metadata": {
    "executionInfo": {
     "elapsed": 37,
     "status": "ok",
     "timestamp": 1635083516956,
     "user": {
      "displayName": "Flask App",
      "photoUrl": "https://lh3.googleusercontent.com/a/default-user=s64",
      "userId": "09047240091770501577"
     },
     "user_tz": -345
    },
    "id": "legmE8CUkvcf"
   },
   "outputs": [],
   "source": [
    "# change label to integer\n",
    "df['label'] = df['label'].map(change_to_integer)"
   ]
  },
  {
   "cell_type": "code",
   "execution_count": 16,
   "metadata": {
    "colab": {
     "base_uri": "https://localhost:8080/"
    },
    "executionInfo": {
     "elapsed": 37,
     "status": "ok",
     "timestamp": 1635083516957,
     "user": {
      "displayName": "Flask App",
      "photoUrl": "https://lh3.googleusercontent.com/a/default-user=s64",
      "userId": "09047240091770501577"
     },
     "user_tz": -345
    },
    "id": "egUby3jClRv9",
    "outputId": "109364b2-0764-4579-923b-702032f17d8d"
   },
   "outputs": [
    {
     "data": {
      "text/plain": [
       "1    2628\n",
       "2    2574\n",
       "0    2268\n",
       "Name: label, dtype: int64"
      ]
     },
     "execution_count": 16,
     "metadata": {},
     "output_type": "execute_result"
    }
   ],
   "source": [
    "# check document count with respect to label\n",
    "df.label.value_counts()"
   ]
  },
  {
   "cell_type": "markdown",
   "metadata": {
    "id": "0MNsQCqIw6BH"
   },
   "source": [
    "label 1 and label 2 has more number of documents compared to label 0. But the differences is not much."
   ]
  },
  {
   "cell_type": "code",
   "execution_count": 17,
   "metadata": {
    "colab": {
     "base_uri": "https://localhost:8080/",
     "height": 206
    },
    "executionInfo": {
     "elapsed": 28,
     "status": "ok",
     "timestamp": 1635083516958,
     "user": {
      "displayName": "Flask App",
      "photoUrl": "https://lh3.googleusercontent.com/a/default-user=s64",
      "userId": "09047240091770501577"
     },
     "user_tz": -345
    },
    "id": "6nGlTgnrla-Q",
    "outputId": "7924c258-6fbe-46b4-a594-aa471b700cbb"
   },
   "outputs": [
    {
     "data": {
      "text/html": [
       "<div>\n",
       "<style scoped>\n",
       "    .dataframe tbody tr th:only-of-type {\n",
       "        vertical-align: middle;\n",
       "    }\n",
       "\n",
       "    .dataframe tbody tr th {\n",
       "        vertical-align: top;\n",
       "    }\n",
       "\n",
       "    .dataframe thead th {\n",
       "        text-align: right;\n",
       "    }\n",
       "</style>\n",
       "<table border=\"1\" class=\"dataframe\">\n",
       "  <thead>\n",
       "    <tr style=\"text-align: right;\">\n",
       "      <th></th>\n",
       "      <th>paras</th>\n",
       "      <th>label</th>\n",
       "    </tr>\n",
       "  </thead>\n",
       "  <tbody>\n",
       "    <tr>\n",
       "      <th>0</th>\n",
       "      <td>उमेरले ७० कटेका पूर्णबहादुर विश्वकर्मा ७ वर्षी...</td>\n",
       "      <td>0</td>\n",
       "    </tr>\n",
       "    <tr>\n",
       "      <th>1</th>\n",
       "      <td>जापान भन्नेबित्तिकै पैंयु साकुरा फूलको चर्चा ह...</td>\n",
       "      <td>0</td>\n",
       "    </tr>\n",
       "    <tr>\n",
       "      <th>2</th>\n",
       "      <td>नेपाल टेलिभिजनबाट हरेक शुक्रबार साँझ प्रसारण ह...</td>\n",
       "      <td>0</td>\n",
       "    </tr>\n",
       "    <tr>\n",
       "      <th>3</th>\n",
       "      <td>दोहोरी भन्नासाथ सोचिन्छ, यो केटा–केटीबीचको जुह...</td>\n",
       "      <td>0</td>\n",
       "    </tr>\n",
       "    <tr>\n",
       "      <th>4</th>\n",
       "      <td>च्यान्टे र मनमायाको स्थानीय परम्पराअनुसार विवा...</td>\n",
       "      <td>0</td>\n",
       "    </tr>\n",
       "  </tbody>\n",
       "</table>\n",
       "</div>"
      ],
      "text/plain": [
       "                                               paras  label\n",
       "0  उमेरले ७० कटेका पूर्णबहादुर विश्वकर्मा ७ वर्षी...      0\n",
       "1  जापान भन्नेबित्तिकै पैंयु साकुरा फूलको चर्चा ह...      0\n",
       "2  नेपाल टेलिभिजनबाट हरेक शुक्रबार साँझ प्रसारण ह...      0\n",
       "3  दोहोरी भन्नासाथ सोचिन्छ, यो केटा–केटीबीचको जुह...      0\n",
       "4  च्यान्टे र मनमायाको स्थानीय परम्पराअनुसार विवा...      0"
      ]
     },
     "execution_count": 17,
     "metadata": {},
     "output_type": "execute_result"
    }
   ],
   "source": [
    "df.head()"
   ]
  },
  {
   "cell_type": "code",
   "execution_count": 18,
   "metadata": {
    "executionInfo": {
     "elapsed": 26,
     "status": "ok",
     "timestamp": 1635083516959,
     "user": {
      "displayName": "Flask App",
      "photoUrl": "https://lh3.googleusercontent.com/a/default-user=s64",
      "userId": "09047240091770501577"
     },
     "user_tz": -345
    },
    "id": "9l8lt_QvlbA9"
   },
   "outputs": [],
   "source": [
    "# check word counts\n",
    "# count words with respect to labels\n",
    "\n",
    "df['word_count'] = df.paras.str.len() "
   ]
  },
  {
   "cell_type": "code",
   "execution_count": 19,
   "metadata": {
    "colab": {
     "base_uri": "https://localhost:8080/",
     "height": 206
    },
    "executionInfo": {
     "elapsed": 26,
     "status": "ok",
     "timestamp": 1635083516960,
     "user": {
      "displayName": "Flask App",
      "photoUrl": "https://lh3.googleusercontent.com/a/default-user=s64",
      "userId": "09047240091770501577"
     },
     "user_tz": -345
    },
    "id": "m5pDh845lbDf",
    "outputId": "ea35f899-e7f6-4511-f91e-fde8e9c25a15"
   },
   "outputs": [
    {
     "data": {
      "text/html": [
       "<div>\n",
       "<style scoped>\n",
       "    .dataframe tbody tr th:only-of-type {\n",
       "        vertical-align: middle;\n",
       "    }\n",
       "\n",
       "    .dataframe tbody tr th {\n",
       "        vertical-align: top;\n",
       "    }\n",
       "\n",
       "    .dataframe thead th {\n",
       "        text-align: right;\n",
       "    }\n",
       "</style>\n",
       "<table border=\"1\" class=\"dataframe\">\n",
       "  <thead>\n",
       "    <tr style=\"text-align: right;\">\n",
       "      <th></th>\n",
       "      <th>paras</th>\n",
       "      <th>label</th>\n",
       "      <th>word_count</th>\n",
       "    </tr>\n",
       "  </thead>\n",
       "  <tbody>\n",
       "    <tr>\n",
       "      <th>0</th>\n",
       "      <td>उमेरले ७० कटेका पूर्णबहादुर विश्वकर्मा ७ वर्षी...</td>\n",
       "      <td>0</td>\n",
       "      <td>281</td>\n",
       "    </tr>\n",
       "    <tr>\n",
       "      <th>1</th>\n",
       "      <td>जापान भन्नेबित्तिकै पैंयु साकुरा फूलको चर्चा ह...</td>\n",
       "      <td>0</td>\n",
       "      <td>392</td>\n",
       "    </tr>\n",
       "    <tr>\n",
       "      <th>2</th>\n",
       "      <td>नेपाल टेलिभिजनबाट हरेक शुक्रबार साँझ प्रसारण ह...</td>\n",
       "      <td>0</td>\n",
       "      <td>310</td>\n",
       "    </tr>\n",
       "    <tr>\n",
       "      <th>3</th>\n",
       "      <td>दोहोरी भन्नासाथ सोचिन्छ, यो केटा–केटीबीचको जुह...</td>\n",
       "      <td>0</td>\n",
       "      <td>225</td>\n",
       "    </tr>\n",
       "    <tr>\n",
       "      <th>4</th>\n",
       "      <td>च्यान्टे र मनमायाको स्थानीय परम्पराअनुसार विवा...</td>\n",
       "      <td>0</td>\n",
       "      <td>278</td>\n",
       "    </tr>\n",
       "  </tbody>\n",
       "</table>\n",
       "</div>"
      ],
      "text/plain": [
       "                                               paras  label  word_count\n",
       "0  उमेरले ७० कटेका पूर्णबहादुर विश्वकर्मा ७ वर्षी...      0         281\n",
       "1  जापान भन्नेबित्तिकै पैंयु साकुरा फूलको चर्चा ह...      0         392\n",
       "2  नेपाल टेलिभिजनबाट हरेक शुक्रबार साँझ प्रसारण ह...      0         310\n",
       "3  दोहोरी भन्नासाथ सोचिन्छ, यो केटा–केटीबीचको जुह...      0         225\n",
       "4  च्यान्टे र मनमायाको स्थानीय परम्पराअनुसार विवा...      0         278"
      ]
     },
     "execution_count": 19,
     "metadata": {},
     "output_type": "execute_result"
    }
   ],
   "source": [
    "df.head()"
   ]
  },
  {
   "cell_type": "markdown",
   "metadata": {
    "id": "N92a_7x_qoyv"
   },
   "source": [
    "## Plot label and text distribution"
   ]
  },
  {
   "cell_type": "code",
   "execution_count": 20,
   "metadata": {
    "colab": {
     "base_uri": "https://localhost:8080/",
     "height": 282
    },
    "executionInfo": {
     "elapsed": 25,
     "status": "ok",
     "timestamp": 1635083516961,
     "user": {
      "displayName": "Flask App",
      "photoUrl": "https://lh3.googleusercontent.com/a/default-user=s64",
      "userId": "09047240091770501577"
     },
     "user_tz": -345
    },
    "id": "iaNLozWtlbGM",
    "outputId": "b50d4ca6-5814-48eb-f884-0c5fc959ca17"
   },
   "outputs": [
    {
     "data": {
      "text/plain": [
       "<matplotlib.axes._subplots.AxesSubplot at 0x7f9d2539d6d0>"
      ]
     },
     "execution_count": 20,
     "metadata": {},
     "output_type": "execute_result"
    },
    {
     "data": {
      "image/png": "[encoded data removed]",
      "text/plain": [
       "<Figure size 432x288 with 1 Axes>"
      ]
     },
     "metadata": {
      "needs_background": "light"
     },
     "output_type": "display_data"
    }
   ],
   "source": [
    "# plot label with total documents\n",
    "df.label.value_counts().plot(kind=\"barh\", color=\"green\")"
   ]
  },
  {
   "cell_type": "code",
   "execution_count": 21,
   "metadata": {
    "colab": {
     "base_uri": "https://localhost:8080/",
     "height": 646
    },
    "executionInfo": {
     "elapsed": 1102,
     "status": "ok",
     "timestamp": 1635083518047,
     "user": {
      "displayName": "Flask App",
      "photoUrl": "https://lh3.googleusercontent.com/a/default-user=s64",
      "userId": "09047240091770501577"
     },
     "user_tz": -345
    },
    "id": "OSmaT3xOwCJj",
    "outputId": "4e512c6c-b7a6-4f03-e33d-fc879972462d"
   },
   "outputs": [
    {
     "data": {
      "text/plain": [
       "array([[<matplotlib.axes._subplots.AxesSubplot object at 0x7f9d252e38d0>,\n",
       "        <matplotlib.axes._subplots.AxesSubplot object at 0x7f9d24e60450>],\n",
       "       [<matplotlib.axes._subplots.AxesSubplot object at 0x7f9d24e16ad0>,\n",
       "        <matplotlib.axes._subplots.AxesSubplot object at 0x7f9d24dd7190>]],\n",
       "      dtype=object)"
      ]
     },
     "execution_count": 21,
     "metadata": {},
     "output_type": "execute_result"
    },
    {
     "data": {
      "image/png": "[encoded data removed]",
      "text/plain": [
       "<Figure size 1152x648 with 4 Axes>"
      ]
     },
     "metadata": {
      "needs_background": "light"
     },
     "output_type": "display_data"
    }
   ],
   "source": [
    "# plot distribution of document length with respect to label\n",
    "df.hist(column = \"word_count\", by=\"label\", figsize = (16, 9), bins=20)"
   ]
  },
  {
   "cell_type": "markdown",
   "metadata": {
    "id": "2WLRzEwrqtYw"
   },
   "source": [
    "Most of the text in documents related to different labels are equally distributed. So our data is perfect and is not imbalanced."
   ]
  },
  {
   "cell_type": "code",
   "execution_count": 22,
   "metadata": {
    "executionInfo": {
     "elapsed": 24,
     "status": "ok",
     "timestamp": 1635083518048,
     "user": {
      "displayName": "Flask App",
      "photoUrl": "https://lh3.googleusercontent.com/a/default-user=s64",
      "userId": "09047240091770501577"
     },
     "user_tz": -345
    },
    "id": "mlW3DvbmqZDZ"
   },
   "outputs": [],
   "source": [
    "# convert text to tokens to \n",
    "def text_split(text):\n",
    "  return text.split()\n",
    "df['tokens'] = df['paras'].map(text_split)"
   ]
  },
  {
   "cell_type": "code",
   "execution_count": 23,
   "metadata": {
    "colab": {
     "base_uri": "https://localhost:8080/",
     "height": 206
    },
    "executionInfo": {
     "elapsed": 23,
     "status": "ok",
     "timestamp": 1635083518048,
     "user": {
      "displayName": "Flask App",
      "photoUrl": "https://lh3.googleusercontent.com/a/default-user=s64",
      "userId": "09047240091770501577"
     },
     "user_tz": -345
    },
    "id": "BJ_dkI0Vqm3d",
    "outputId": "a46f19f7-7261-418f-c0c7-5177870d5b91"
   },
   "outputs": [
    {
     "data": {
      "text/html": [
       "<div>\n",
       "<style scoped>\n",
       "    .dataframe tbody tr th:only-of-type {\n",
       "        vertical-align: middle;\n",
       "    }\n",
       "\n",
       "    .dataframe tbody tr th {\n",
       "        vertical-align: top;\n",
       "    }\n",
       "\n",
       "    .dataframe thead th {\n",
       "        text-align: right;\n",
       "    }\n",
       "</style>\n",
       "<table border=\"1\" class=\"dataframe\">\n",
       "  <thead>\n",
       "    <tr style=\"text-align: right;\">\n",
       "      <th></th>\n",
       "      <th>paras</th>\n",
       "      <th>label</th>\n",
       "      <th>word_count</th>\n",
       "      <th>tokens</th>\n",
       "    </tr>\n",
       "  </thead>\n",
       "  <tbody>\n",
       "    <tr>\n",
       "      <th>0</th>\n",
       "      <td>उमेरले ७० कटेका पूर्णबहादुर विश्वकर्मा ७ वर्षी...</td>\n",
       "      <td>0</td>\n",
       "      <td>281</td>\n",
       "      <td>[उमेरले, ७०, कटेका, पूर्णबहादुर, विश्वकर्मा, ७...</td>\n",
       "    </tr>\n",
       "    <tr>\n",
       "      <th>1</th>\n",
       "      <td>जापान भन्नेबित्तिकै पैंयु साकुरा फूलको चर्चा ह...</td>\n",
       "      <td>0</td>\n",
       "      <td>392</td>\n",
       "      <td>[जापान, भन्नेबित्तिकै, पैंयु, साकुरा, फूलको, च...</td>\n",
       "    </tr>\n",
       "    <tr>\n",
       "      <th>2</th>\n",
       "      <td>नेपाल टेलिभिजनबाट हरेक शुक्रबार साँझ प्रसारण ह...</td>\n",
       "      <td>0</td>\n",
       "      <td>310</td>\n",
       "      <td>[नेपाल, टेलिभिजनबाट, हरेक, शुक्रबार, साँझ, प्र...</td>\n",
       "    </tr>\n",
       "    <tr>\n",
       "      <th>3</th>\n",
       "      <td>दोहोरी भन्नासाथ सोचिन्छ, यो केटा–केटीबीचको जुह...</td>\n",
       "      <td>0</td>\n",
       "      <td>225</td>\n",
       "      <td>[दोहोरी, भन्नासाथ, सोचिन्छ,, यो, केटा–केटीबीचक...</td>\n",
       "    </tr>\n",
       "    <tr>\n",
       "      <th>4</th>\n",
       "      <td>च्यान्टे र मनमायाको स्थानीय परम्पराअनुसार विवा...</td>\n",
       "      <td>0</td>\n",
       "      <td>278</td>\n",
       "      <td>[च्यान्टे, र, मनमायाको, स्थानीय, परम्पराअनुसार...</td>\n",
       "    </tr>\n",
       "  </tbody>\n",
       "</table>\n",
       "</div>"
      ],
      "text/plain": [
       "                                               paras  ...                                             tokens\n",
       "0  उमेरले ७० कटेका पूर्णबहादुर विश्वकर्मा ७ वर्षी...  ...  [उमेरले, ७०, कटेका, पूर्णबहादुर, विश्वकर्मा, ७...\n",
       "1  जापान भन्नेबित्तिकै पैंयु साकुरा फूलको चर्चा ह...  ...  [जापान, भन्नेबित्तिकै, पैंयु, साकुरा, फूलको, च...\n",
       "2  नेपाल टेलिभिजनबाट हरेक शुक्रबार साँझ प्रसारण ह...  ...  [नेपाल, टेलिभिजनबाट, हरेक, शुक्रबार, साँझ, प्र...\n",
       "3  दोहोरी भन्नासाथ सोचिन्छ, यो केटा–केटीबीचको जुह...  ...  [दोहोरी, भन्नासाथ, सोचिन्छ,, यो, केटा–केटीबीचक...\n",
       "4  च्यान्टे र मनमायाको स्थानीय परम्पराअनुसार विवा...  ...  [च्यान्टे, र, मनमायाको, स्थानीय, परम्पराअनुसार...\n",
       "\n",
       "[5 rows x 4 columns]"
      ]
     },
     "execution_count": 23,
     "metadata": {},
     "output_type": "execute_result"
    }
   ],
   "source": [
    "df.head()"
   ]
  },
  {
   "cell_type": "markdown",
   "metadata": {
    "id": "ja7nhsBup8zv"
   },
   "source": [
    "## Get most common words (label 0)\n",
    "\n"
   ]
  },
  {
   "cell_type": "code",
   "execution_count": 24,
   "metadata": {
    "executionInfo": {
     "elapsed": 22,
     "status": "ok",
     "timestamp": 1635083518049,
     "user": {
      "displayName": "Flask App",
      "photoUrl": "https://lh3.googleusercontent.com/a/default-user=s64",
      "userId": "09047240091770501577"
     },
     "user_tz": -345
    },
    "id": "8HxYaqvXmQcr"
   },
   "outputs": [],
   "source": [
    "# create dictionary of most frequent words\n",
    "\n",
    "from collections import Counter"
   ]
  },
  {
   "cell_type": "code",
   "execution_count": 25,
   "metadata": {
    "executionInfo": {
     "elapsed": 21,
     "status": "ok",
     "timestamp": 1635083518050,
     "user": {
      "displayName": "Flask App",
      "photoUrl": "https://lh3.googleusercontent.com/a/default-user=s64",
      "userId": "09047240091770501577"
     },
     "user_tz": -345
    },
    "id": "XZ7FLvTDp6R5"
   },
   "outputs": [],
   "source": [
    "# function to count words occurance\n",
    "def count_common_word(label):\n",
    "  count = Counter()\n",
    "  label_ = df[df['label'] == label]\n",
    "  tokens = label_.tokens\n",
    "\n",
    "  for token in tokens:\n",
    "    count.update(token)\n",
    "  return count"
   ]
  },
  {
   "cell_type": "code",
   "execution_count": 26,
   "metadata": {
    "colab": {
     "base_uri": "https://localhost:8080/"
    },
    "executionInfo": {
     "elapsed": 22,
     "status": "ok",
     "timestamp": 1635083518051,
     "user": {
      "displayName": "Flask App",
      "photoUrl": "https://lh3.googleusercontent.com/a/default-user=s64",
      "userId": "09047240091770501577"
     },
     "user_tz": -345
    },
    "id": "OXwwhHgPp6UP",
    "outputId": "4ee6f2d5-9a20-4819-a122-37c4b916c16c"
   },
   "outputs": [
    {
     "data": {
      "text/plain": [
       "[('।', 5443),\n",
       " ('छ', 1314),\n",
       " ('र', 1088),\n",
       " ('छन्', 1006),\n",
       " ('फिल्म', 846),\n",
       " ('पनि', 622),\n",
       " ('भएको', 443),\n",
       " ('गीत', 374),\n",
       " ('को', 352),\n",
       " ('गरेको', 304),\n",
       " ('सार्वजनिक', 280),\n",
       " ('नेपाली', 275),\n",
       " ('भने', 262),\n",
       " ('गरिएको', 245),\n",
       " ('हो', 237),\n",
       " ('मा', 236),\n",
       " ('हुन्', 232),\n",
       " ('लागि', 229),\n",
       " ('यो', 226),\n",
       " ('उनी', 225)]"
      ]
     },
     "execution_count": 26,
     "metadata": {},
     "output_type": "execute_result"
    }
   ],
   "source": [
    "# checking most frequent words\n",
    "\n",
    "most_common_0 = count_common_word(0).most_common(20)\n",
    "most_common_0"
   ]
  },
  {
   "cell_type": "markdown",
   "metadata": {
    "id": "29r1hCb1pZxM"
   },
   "source": [
    "The most frequent words are the words which are called stop_words.\n",
    "What is stop words?\n",
    "\n",
    "-> Stop words are commonly used words in a language . If you are a native english speaker , examples are \"a\", \"an\", \"the\", \"and\" etc which do not take much part in classification of the documents."
   ]
  },
  {
   "cell_type": "markdown",
   "metadata": {
    "id": "dEn3tb5jp036"
   },
   "source": [
    "### Plotting the most common words of label 0"
   ]
  },
  {
   "cell_type": "code",
   "execution_count": 27,
   "metadata": {
    "executionInfo": {
     "elapsed": 17,
     "status": "ok",
     "timestamp": 1635083518052,
     "user": {
      "displayName": "Flask App",
      "photoUrl": "https://lh3.googleusercontent.com/a/default-user=s64",
      "userId": "09047240091770501577"
     },
     "user_tz": -345
    },
    "id": "0N-nptM3x0wJ"
   },
   "outputs": [],
   "source": [
    "\n",
    "values_0 = [value for key, value in most_common_0]\n",
    "keys_0 = [key for key, value in most_common_0]"
   ]
  },
  {
   "cell_type": "code",
   "execution_count": 28,
   "metadata": {
    "executionInfo": {
     "elapsed": 16,
     "status": "ok",
     "timestamp": 1635083518052,
     "user": {
      "displayName": "Flask App",
      "photoUrl": "https://lh3.googleusercontent.com/a/default-user=s64",
      "userId": "09047240091770501577"
     },
     "user_tz": -345
    },
    "id": "c5Te7yOWp6Wk"
   },
   "outputs": [],
   "source": [
    "# get font properties for plotting devangiri font\n",
    "from matplotlib.font_manager import FontProperties"
   ]
  },
  {
   "cell_type": "code",
   "execution_count": 29,
   "metadata": {
    "executionInfo": {
     "elapsed": 16,
     "status": "ok",
     "timestamp": 1635083518053,
     "user": {
      "displayName": "Flask App",
      "photoUrl": "https://lh3.googleusercontent.com/a/default-user=s64",
      "userId": "09047240091770501577"
     },
     "user_tz": -345
    },
    "id": "33-I30S0p6ZP"
   },
   "outputs": [],
   "source": [
    "# using mangal font to plot devanagiri data into graph\n",
    "\n",
    "font_prop = FontProperties(fname='./Mangal.ttf', size=18)"
   ]
  },
  {
   "cell_type": "code",
   "execution_count": 30,
   "metadata": {
    "colab": {
     "base_uri": "https://localhost:8080/",
     "height": 661
    },
    "executionInfo": {
     "elapsed": 910,
     "status": "ok",
     "timestamp": 1635083518947,
     "user": {
      "displayName": "Flask App",
      "photoUrl": "https://lh3.googleusercontent.com/a/default-user=s64",
      "userId": "09047240091770501577"
     },
     "user_tz": -345
    },
    "id": "S93UzPcmyU47",
    "outputId": "7aad1145-4abf-4d06-80d0-e03d37954351"
   },
   "outputs": [
    {
     "name": "stderr",
     "output_type": "stream",
     "text": [
      "/usr/local/lib/python3.7/dist-packages/matplotlib/backends/backend_agg.py:214: RuntimeWarning: Glyph 108 missing from current font.\n",
      "  font.set_text(s, 0.0, flags=flags)\n",
      "/usr/local/lib/python3.7/dist-packages/matplotlib/backends/backend_agg.py:214: RuntimeWarning: Glyph 112 missing from current font.\n",
      "  font.set_text(s, 0.0, flags=flags)\n"
     ]
    },
    {
     "data": {
      "image/png": "[encoded data removed]",
      "text/plain": [
       "<Figure size 1152x648 with 1 Axes>"
      ]
     },
     "metadata": {
      "needs_background": "light"
     },
     "output_type": "display_data"
    }
   ],
   "source": [
    "# plot function to plot the most common words\n",
    "\n",
    "def plot(values, keys):\n",
    "  plt.figure(figsize = (16, 9))\n",
    "  ax = plt.subplot()\n",
    "\n",
    "  plt.bar(keys, values)\n",
    "  for label in (ax.get_xticklabels() + ax.get_yticklabels()):\n",
    "    label.set_fontproperties(font_prop)\n",
    "    label.set_fontsize(10)  # Size here overrides font_prop\n",
    "\n",
    "\n",
    "  plt.title(\"नेपाली भाषामा शीर्षक\", fontproperties=font_prop,\n",
    "          size=15, verticalalignment='bottom')  # Size here overrides font_prop\n",
    "  plt.xlabel(\"लेबलहरू\", fontproperties=font_prop)\n",
    "  plt.ylabel(\"लेबलहरू\", fontproperties=font_prop)\n",
    "\n",
    "\n",
    "  plt.show()\n",
    "\n",
    "plot(values_0, keys_0)"
   ]
  },
  {
   "cell_type": "markdown",
   "metadata": {
    "id": "ZOPQhtpeqC2R"
   },
   "source": [
    "## Get most common words (label 1)"
   ]
  },
  {
   "cell_type": "code",
   "execution_count": 31,
   "metadata": {
    "colab": {
     "base_uri": "https://localhost:8080/"
    },
    "executionInfo": {
     "elapsed": 49,
     "status": "ok",
     "timestamp": 1635083518948,
     "user": {
      "displayName": "Flask App",
      "photoUrl": "https://lh3.googleusercontent.com/a/default-user=s64",
      "userId": "09047240091770501577"
     },
     "user_tz": -345
    },
    "id": "J5I-WjPwmQfK",
    "outputId": "2b137bdf-6e3a-42ed-bc20-666f81e43b69"
   },
   "outputs": [
    {
     "data": {
      "text/plain": [
       "[('।', 5209),\n",
       " ('छ', 2323),\n",
       " ('र', 967),\n",
       " ('भएको', 919),\n",
       " ('छन्', 804),\n",
       " ('गरेको', 755),\n",
       " ('हो', 722),\n",
       " ('पनि', 472),\n",
       " ('तथा', 469),\n",
       " ('गर्न', 447),\n",
       " ('लागि', 429),\n",
       " ('गर्ने', 409),\n",
       " ('सरकारले', 372),\n",
       " ('नेपाल', 347),\n",
       " ('यो', 307),\n",
       " ('हुने', 302),\n",
       " ('सय', 285),\n",
       " ('रुपैयाँ', 268),\n",
       " ('गरेका', 265),\n",
       " ('एक', 254)]"
      ]
     },
     "execution_count": 31,
     "metadata": {},
     "output_type": "execute_result"
    }
   ],
   "source": [
    "\n",
    "# check most common word of label 1\n",
    "most_common_1 = count_common_word(1)\n",
    "most_common_1.most_common(20)"
   ]
  },
  {
   "cell_type": "markdown",
   "metadata": {
    "id": "jFCgM9z4qHv7"
   },
   "source": [
    "### Plotting the most common words of label 1"
   ]
  },
  {
   "cell_type": "code",
   "execution_count": 32,
   "metadata": {
    "executionInfo": {
     "elapsed": 43,
     "status": "ok",
     "timestamp": 1635083518949,
     "user": {
      "displayName": "Flask App",
      "photoUrl": "https://lh3.googleusercontent.com/a/default-user=s64",
      "userId": "09047240091770501577"
     },
     "user_tz": -345
    },
    "id": "m1TcVFXJ1J4Q"
   },
   "outputs": [],
   "source": [
    "# create x and y variable to hold the data\n",
    "\n",
    "keys_1 = [key for key, data in most_common_1.most_common(20)]\n",
    "values_1 = [value for key, value in most_common_1.most_common(20)]"
   ]
  },
  {
   "cell_type": "code",
   "execution_count": 33,
   "metadata": {
    "colab": {
     "base_uri": "https://localhost:8080/",
     "height": 662
    },
    "executionInfo": {
     "elapsed": 43,
     "status": "ok",
     "timestamp": 1635083518950,
     "user": {
      "displayName": "Flask App",
      "photoUrl": "https://lh3.googleusercontent.com/a/default-user=s64",
      "userId": "09047240091770501577"
     },
     "user_tz": -345
    },
    "id": "IAfSbGzemQh4",
    "outputId": "c67aaa35-bd8e-452a-b217-1cff3677f6d8"
   },
   "outputs": [
    {
     "name": "stderr",
     "output_type": "stream",
     "text": [
      "/usr/local/lib/python3.7/dist-packages/matplotlib/backends/backend_agg.py:214: RuntimeWarning: Glyph 108 missing from current font.\n",
      "  font.set_text(s, 0.0, flags=flags)\n",
      "/usr/local/lib/python3.7/dist-packages/matplotlib/backends/backend_agg.py:214: RuntimeWarning: Glyph 112 missing from current font.\n",
      "  font.set_text(s, 0.0, flags=flags)\n"
     ]
    },
    {
     "data": {
      "image/png": "[encoded data removed]",
      "text/plain": [
       "<Figure size 1152x648 with 1 Axes>"
      ]
     },
     "metadata": {
      "needs_background": "light"
     },
     "output_type": "display_data"
    }
   ],
   "source": [
    "# using our plot function to plot the data\n",
    "\n",
    "plot(values_1, keys_1)"
   ]
  },
  {
   "cell_type": "markdown",
   "metadata": {
    "id": "aXmVi7TzqNvQ"
   },
   "source": [
    "## Get most common words (label 0)\n"
   ]
  },
  {
   "cell_type": "code",
   "execution_count": 34,
   "metadata": {
    "colab": {
     "base_uri": "https://localhost:8080/"
    },
    "executionInfo": {
     "elapsed": 35,
     "status": "ok",
     "timestamp": 1635083518950,
     "user": {
      "displayName": "Flask App",
      "photoUrl": "https://lh3.googleusercontent.com/a/default-user=s64",
      "userId": "09047240091770501577"
     },
     "user_tz": -345
    },
    "id": "QYzPUkth1Sjh",
    "outputId": "26c1cd58-7f24-493e-cff9-0551adbb7e75"
   },
   "outputs": [
    {
     "data": {
      "text/plain": [
       "[('।', 4599),\n",
       " ('छ', 2012),\n",
       " ('र', 764),\n",
       " ('छन्', 728),\n",
       " ('गरेको', 700),\n",
       " ('भएको', 667),\n",
       " ('ले', 533),\n",
       " ('पराजित', 521),\n",
       " ('क्रिकेट', 515),\n",
       " ('नेपाल', 506),\n",
       " ('लिग', 504),\n",
       " ('को', 442),\n",
       " ('खेलमा', 408),\n",
       " ('फुटबल', 406),\n",
       " ('उपाधि', 399),\n",
       " ('पहिलो', 399),\n",
       " ('राष्ट्रिय', 395),\n",
       " ('हो', 391),\n",
       " ('प्रिमियर', 379),\n",
       " ('नेपाली', 333)]"
      ]
     },
     "execution_count": 34,
     "metadata": {},
     "output_type": "execute_result"
    }
   ],
   "source": [
    "most_common_2 = count_common_word(2)\n",
    "most_common_2.most_common(20)"
   ]
  },
  {
   "cell_type": "markdown",
   "metadata": {
    "id": "Cg-FbMrgqJUQ"
   },
   "source": [
    "### Plotting the most common words of label 2"
   ]
  },
  {
   "cell_type": "code",
   "execution_count": 35,
   "metadata": {
    "executionInfo": {
     "elapsed": 685,
     "status": "ok",
     "timestamp": 1635083519605,
     "user": {
      "displayName": "Flask App",
      "photoUrl": "https://lh3.googleusercontent.com/a/default-user=s64",
      "userId": "09047240091770501577"
     },
     "user_tz": -345
    },
    "id": "g896yhSD1jhw"
   },
   "outputs": [],
   "source": [
    "values_1 = [value for key, value in most_common_1.most_common(20)]\n",
    "keys_1 = [key for key, value in most_common_1.most_common(20)]"
   ]
  },
  {
   "cell_type": "code",
   "execution_count": 36,
   "metadata": {
    "colab": {
     "base_uri": "https://localhost:8080/",
     "height": 662
    },
    "executionInfo": {
     "elapsed": 24,
     "status": "ok",
     "timestamp": 1635083519606,
     "user": {
      "displayName": "Flask App",
      "photoUrl": "https://lh3.googleusercontent.com/a/default-user=s64",
      "userId": "09047240091770501577"
     },
     "user_tz": -345
    },
    "id": "Xy252FOP1qHe",
    "outputId": "6931fdaf-afbb-4b2e-a4eb-9c7fe3d3575a"
   },
   "outputs": [
    {
     "name": "stderr",
     "output_type": "stream",
     "text": [
      "/usr/local/lib/python3.7/dist-packages/matplotlib/backends/backend_agg.py:214: RuntimeWarning: Glyph 108 missing from current font.\n",
      "  font.set_text(s, 0.0, flags=flags)\n",
      "/usr/local/lib/python3.7/dist-packages/matplotlib/backends/backend_agg.py:214: RuntimeWarning: Glyph 112 missing from current font.\n",
      "  font.set_text(s, 0.0, flags=flags)\n"
     ]
    },
    {
     "data": {
      "image/png": "[encoded data removed]",
      "text/plain": [
       "<Figure size 1152x648 with 1 Axes>"
      ]
     },
     "metadata": {
      "needs_background": "light"
     },
     "output_type": "display_data"
    }
   ],
   "source": [
    "plot(values_1, keys_1)"
   ]
  },
  {
   "cell_type": "markdown",
   "metadata": {
    "id": "Nmv_XB3jpFIu"
   },
   "source": [
    "The most common words we see are stop-words which is removed mostly, it is removed because we are using simple vectorizer. If we are using large language model or word embedding then we should not remove stop words.\n",
    "Below is a function used to remove and clean the text dataset."
   ]
  },
  {
   "cell_type": "markdown",
   "metadata": {
    "id": "MB6YvG2iqZEf"
   },
   "source": [
    "## Clean our text documents"
   ]
  },
  {
   "cell_type": "markdown",
   "metadata": {
    "id": "4b1jo2FTsYaN"
   },
   "source": [
    "Now we are going to remove stop words. I have already downlaoded a file which contains the list of nepali stopwords. "
   ]
  },
  {
   "cell_type": "code",
   "execution_count": 37,
   "metadata": {
    "colab": {
     "base_uri": "https://localhost:8080/"
    },
    "executionInfo": {
     "elapsed": 15,
     "status": "ok",
     "timestamp": 1635083519608,
     "user": {
      "displayName": "Flask App",
      "photoUrl": "https://lh3.googleusercontent.com/a/default-user=s64",
      "userId": "09047240091770501577"
     },
     "user_tz": -345
    },
    "id": "xNQFH8Ndr6yw",
    "outputId": "70a21fab-1de1-449d-ef46-d128c95ec231"
   },
   "outputs": [
    {
     "name": "stdout",
     "output_type": "stream",
     "text": [
      "अक्सर\n",
      "अगाडि\n",
      "अझै\n",
      "अनुसार\n",
      "अन्तर्गत\n",
      "अन्य\n",
      "अन्यत्र\n",
      "अन्यथ\n"
     ]
    }
   ],
   "source": [
    "data = \"\"\n",
    "with open(\"./nepali_stopwords.txt\", \"r\") as f:\n",
    "  data += f.read()\n",
    "print(data[:50])"
   ]
  },
  {
   "cell_type": "code",
   "execution_count": 38,
   "metadata": {
    "executionInfo": {
     "elapsed": 10,
     "status": "ok",
     "timestamp": 1635083519609,
     "user": {
      "displayName": "Flask App",
      "photoUrl": "https://lh3.googleusercontent.com/a/default-user=s64",
      "userId": "09047240091770501577"
     },
     "user_tz": -345
    },
    "id": "sbRpMaL91rkl"
   },
   "outputs": [],
   "source": [
    "# remove stop words and remove punctuation(if there is any)\n",
    "from string import punctuation\n",
    "\n",
    "punct = list(punctuation)\n",
    "\n",
    "def clean_text(words):\n",
    "  words = words.split()\n",
    "  clean_word = []\n",
    "  for word in words:\n",
    "    if word not in data and word not in punct:\n",
    "      clean_word.append(word)\n",
    "  \n",
    "  return clean_word"
   ]
  },
  {
   "cell_type": "code",
   "execution_count": 39,
   "metadata": {
    "executionInfo": {
     "elapsed": 1241,
     "status": "ok",
     "timestamp": 1635083520840,
     "user": {
      "displayName": "Flask App",
      "photoUrl": "https://lh3.googleusercontent.com/a/default-user=s64",
      "userId": "09047240091770501577"
     },
     "user_tz": -345
    },
    "id": "rDUWuDm94X5F"
   },
   "outputs": [],
   "source": [
    "df['tokens'] = df['paras'].map(clean_text)"
   ]
  },
  {
   "cell_type": "code",
   "execution_count": 40,
   "metadata": {
    "colab": {
     "base_uri": "https://localhost:8080/",
     "height": 206
    },
    "executionInfo": {
     "elapsed": 18,
     "status": "ok",
     "timestamp": 1635083520841,
     "user": {
      "displayName": "Flask App",
      "photoUrl": "https://lh3.googleusercontent.com/a/default-user=s64",
      "userId": "09047240091770501577"
     },
     "user_tz": -345
    },
    "id": "xidUa1444eBq",
    "outputId": "05646176-954f-4b54-d38e-a1c5521dc910"
   },
   "outputs": [
    {
     "data": {
      "text/html": [
       "<div>\n",
       "<style scoped>\n",
       "    .dataframe tbody tr th:only-of-type {\n",
       "        vertical-align: middle;\n",
       "    }\n",
       "\n",
       "    .dataframe tbody tr th {\n",
       "        vertical-align: top;\n",
       "    }\n",
       "\n",
       "    .dataframe thead th {\n",
       "        text-align: right;\n",
       "    }\n",
       "</style>\n",
       "<table border=\"1\" class=\"dataframe\">\n",
       "  <thead>\n",
       "    <tr style=\"text-align: right;\">\n",
       "      <th></th>\n",
       "      <th>paras</th>\n",
       "      <th>label</th>\n",
       "      <th>word_count</th>\n",
       "      <th>tokens</th>\n",
       "    </tr>\n",
       "  </thead>\n",
       "  <tbody>\n",
       "    <tr>\n",
       "      <th>0</th>\n",
       "      <td>उमेरले ७० कटेका पूर्णबहादुर विश्वकर्मा ७ वर्षी...</td>\n",
       "      <td>0</td>\n",
       "      <td>281</td>\n",
       "      <td>[उमेरले, ७०, कटेका, पूर्णबहादुर, विश्वकर्मा, ७...</td>\n",
       "    </tr>\n",
       "    <tr>\n",
       "      <th>1</th>\n",
       "      <td>जापान भन्नेबित्तिकै पैंयु साकुरा फूलको चर्चा ह...</td>\n",
       "      <td>0</td>\n",
       "      <td>392</td>\n",
       "      <td>[जापान, भन्नेबित्तिकै, पैंयु, साकुरा, फूलको, च...</td>\n",
       "    </tr>\n",
       "    <tr>\n",
       "      <th>2</th>\n",
       "      <td>नेपाल टेलिभिजनबाट हरेक शुक्रबार साँझ प्रसारण ह...</td>\n",
       "      <td>0</td>\n",
       "      <td>310</td>\n",
       "      <td>[नेपाल, टेलिभिजनबाट, शुक्रबार, साँझ, प्रसारण, ...</td>\n",
       "    </tr>\n",
       "    <tr>\n",
       "      <th>3</th>\n",
       "      <td>दोहोरी भन्नासाथ सोचिन्छ, यो केटा–केटीबीचको जुह...</td>\n",
       "      <td>0</td>\n",
       "      <td>225</td>\n",
       "      <td>[दोहोरी, भन्नासाथ, सोचिन्छ,, केटा–केटीबीचको, ज...</td>\n",
       "    </tr>\n",
       "    <tr>\n",
       "      <th>4</th>\n",
       "      <td>च्यान्टे र मनमायाको स्थानीय परम्पराअनुसार विवा...</td>\n",
       "      <td>0</td>\n",
       "      <td>278</td>\n",
       "      <td>[च्यान्टे, मनमायाको, स्थानीय, परम्पराअनुसार, व...</td>\n",
       "    </tr>\n",
       "  </tbody>\n",
       "</table>\n",
       "</div>"
      ],
      "text/plain": [
       "                                               paras  ...                                             tokens\n",
       "0  उमेरले ७० कटेका पूर्णबहादुर विश्वकर्मा ७ वर्षी...  ...  [उमेरले, ७०, कटेका, पूर्णबहादुर, विश्वकर्मा, ७...\n",
       "1  जापान भन्नेबित्तिकै पैंयु साकुरा फूलको चर्चा ह...  ...  [जापान, भन्नेबित्तिकै, पैंयु, साकुरा, फूलको, च...\n",
       "2  नेपाल टेलिभिजनबाट हरेक शुक्रबार साँझ प्रसारण ह...  ...  [नेपाल, टेलिभिजनबाट, शुक्रबार, साँझ, प्रसारण, ...\n",
       "3  दोहोरी भन्नासाथ सोचिन्छ, यो केटा–केटीबीचको जुह...  ...  [दोहोरी, भन्नासाथ, सोचिन्छ,, केटा–केटीबीचको, ज...\n",
       "4  च्यान्टे र मनमायाको स्थानीय परम्पराअनुसार विवा...  ...  [च्यान्टे, मनमायाको, स्थानीय, परम्पराअनुसार, व...\n",
       "\n",
       "[5 rows x 4 columns]"
      ]
     },
     "execution_count": 40,
     "metadata": {},
     "output_type": "execute_result"
    }
   ],
   "source": [
    "df.head()"
   ]
  },
  {
   "cell_type": "code",
   "execution_count": 41,
   "metadata": {
    "executionInfo": {
     "elapsed": 15,
     "status": "ok",
     "timestamp": 1635083520842,
     "user": {
      "displayName": "Flask App",
      "photoUrl": "https://lh3.googleusercontent.com/a/default-user=s64",
      "userId": "09047240091770501577"
     },
     "user_tz": -345
    },
    "id": "EBokPa-r4fpm"
   },
   "outputs": [],
   "source": [
    "#join the cleaned tokens\n",
    "\n",
    "def join_tokens(tokens):\n",
    "  return \" \".join(tokens)"
   ]
  },
  {
   "cell_type": "code",
   "execution_count": 42,
   "metadata": {
    "executionInfo": {
     "elapsed": 14,
     "status": "ok",
     "timestamp": 1635083520842,
     "user": {
      "displayName": "Flask App",
      "photoUrl": "https://lh3.googleusercontent.com/a/default-user=s64",
      "userId": "09047240091770501577"
     },
     "user_tz": -345
    },
    "id": "8fxErLNx7aNH"
   },
   "outputs": [],
   "source": [
    "df['cleaned_text'] = df['tokens'].map(join_tokens)"
   ]
  },
  {
   "cell_type": "code",
   "execution_count": 43,
   "metadata": {
    "executionInfo": {
     "elapsed": 13,
     "status": "ok",
     "timestamp": 1635083520842,
     "user": {
      "displayName": "Flask App",
      "photoUrl": "https://lh3.googleusercontent.com/a/default-user=s64",
      "userId": "09047240091770501577"
     },
     "user_tz": -345
    },
    "id": "9B0ipyR37c9C"
   },
   "outputs": [],
   "source": [
    "# get len of new cleaned_text\n",
    "\n",
    "df['new_word_count'] = df['cleaned_text'].str.len()"
   ]
  },
  {
   "cell_type": "code",
   "execution_count": 44,
   "metadata": {
    "colab": {
     "base_uri": "https://localhost:8080/",
     "height": 206
    },
    "executionInfo": {
     "elapsed": 15,
     "status": "ok",
     "timestamp": 1635083520844,
     "user": {
      "displayName": "Flask App",
      "photoUrl": "https://lh3.googleusercontent.com/a/default-user=s64",
      "userId": "09047240091770501577"
     },
     "user_tz": -345
    },
    "id": "8ZxUnKY57d4u",
    "outputId": "7fbeb53f-d463-4930-cecc-6f0ac5901b0f"
   },
   "outputs": [
    {
     "data": {
      "text/html": [
       "<div>\n",
       "<style scoped>\n",
       "    .dataframe tbody tr th:only-of-type {\n",
       "        vertical-align: middle;\n",
       "    }\n",
       "\n",
       "    .dataframe tbody tr th {\n",
       "        vertical-align: top;\n",
       "    }\n",
       "\n",
       "    .dataframe thead th {\n",
       "        text-align: right;\n",
       "    }\n",
       "</style>\n",
       "<table border=\"1\" class=\"dataframe\">\n",
       "  <thead>\n",
       "    <tr style=\"text-align: right;\">\n",
       "      <th></th>\n",
       "      <th>paras</th>\n",
       "      <th>label</th>\n",
       "      <th>word_count</th>\n",
       "      <th>tokens</th>\n",
       "      <th>cleaned_text</th>\n",
       "      <th>new_word_count</th>\n",
       "    </tr>\n",
       "  </thead>\n",
       "  <tbody>\n",
       "    <tr>\n",
       "      <th>0</th>\n",
       "      <td>उमेरले ७० कटेका पूर्णबहादुर विश्वकर्मा ७ वर्षी...</td>\n",
       "      <td>0</td>\n",
       "      <td>281</td>\n",
       "      <td>[उमेरले, ७०, कटेका, पूर्णबहादुर, विश्वकर्मा, ७...</td>\n",
       "      <td>उमेरले ७० कटेका पूर्णबहादुर विश्वकर्मा ७ वर्षी...</td>\n",
       "      <td>250</td>\n",
       "    </tr>\n",
       "    <tr>\n",
       "      <th>1</th>\n",
       "      <td>जापान भन्नेबित्तिकै पैंयु साकुरा फूलको चर्चा ह...</td>\n",
       "      <td>0</td>\n",
       "      <td>392</td>\n",
       "      <td>[जापान, भन्नेबित्तिकै, पैंयु, साकुरा, फूलको, च...</td>\n",
       "      <td>जापान भन्नेबित्तिकै पैंयु साकुरा फूलको चर्चा ।...</td>\n",
       "      <td>339</td>\n",
       "    </tr>\n",
       "    <tr>\n",
       "      <th>2</th>\n",
       "      <td>नेपाल टेलिभिजनबाट हरेक शुक्रबार साँझ प्रसारण ह...</td>\n",
       "      <td>0</td>\n",
       "      <td>310</td>\n",
       "      <td>[नेपाल, टेलिभिजनबाट, शुक्रबार, साँझ, प्रसारण, ...</td>\n",
       "      <td>नेपाल टेलिभिजनबाट शुक्रबार साँझ प्रसारण हुँदै ...</td>\n",
       "      <td>272</td>\n",
       "    </tr>\n",
       "    <tr>\n",
       "      <th>3</th>\n",
       "      <td>दोहोरी भन्नासाथ सोचिन्छ, यो केटा–केटीबीचको जुह...</td>\n",
       "      <td>0</td>\n",
       "      <td>225</td>\n",
       "      <td>[दोहोरी, भन्नासाथ, सोचिन्छ,, केटा–केटीबीचको, ज...</td>\n",
       "      <td>दोहोरी भन्नासाथ सोचिन्छ, केटा–केटीबीचको जुहारी...</td>\n",
       "      <td>192</td>\n",
       "    </tr>\n",
       "    <tr>\n",
       "      <th>4</th>\n",
       "      <td>च्यान्टे र मनमायाको स्थानीय परम्पराअनुसार विवा...</td>\n",
       "      <td>0</td>\n",
       "      <td>278</td>\n",
       "      <td>[च्यान्टे, मनमायाको, स्थानीय, परम्पराअनुसार, व...</td>\n",
       "      <td>च्यान्टे मनमायाको स्थानीय परम्पराअनुसार विवाह ...</td>\n",
       "      <td>245</td>\n",
       "    </tr>\n",
       "  </tbody>\n",
       "</table>\n",
       "</div>"
      ],
      "text/plain": [
       "                                               paras  ...  new_word_count\n",
       "0  उमेरले ७० कटेका पूर्णबहादुर विश्वकर्मा ७ वर्षी...  ...             250\n",
       "1  जापान भन्नेबित्तिकै पैंयु साकुरा फूलको चर्चा ह...  ...             339\n",
       "2  नेपाल टेलिभिजनबाट हरेक शुक्रबार साँझ प्रसारण ह...  ...             272\n",
       "3  दोहोरी भन्नासाथ सोचिन्छ, यो केटा–केटीबीचको जुह...  ...             192\n",
       "4  च्यान्टे र मनमायाको स्थानीय परम्पराअनुसार विवा...  ...             245\n",
       "\n",
       "[5 rows x 6 columns]"
      ]
     },
     "execution_count": 44,
     "metadata": {},
     "output_type": "execute_result"
    }
   ],
   "source": [
    "# we have reduced the length of the text by almost 5%\n",
    "df.head()"
   ]
  },
  {
   "cell_type": "markdown",
   "metadata": {
    "id": "SJUpcjjf9UYS"
   },
   "source": [
    "# Model Selection And Parameter Tuning"
   ]
  },
  {
   "cell_type": "markdown",
   "metadata": {
    "id": "0JnpL9WpglEv"
   },
   "source": [
    "\n",
    "\n",
    "Logistic Regresion\n",
    "\n",
    "\n",
    "\n",
    "- It is also called sigmoid function\n",
    "- It restricts the values between 0 and 1\n",
    "- formula => 1/(e^-z) whereas z= wTx + b\n",
    "\n",
    "\n",
    "MultinomialBayes\n",
    "\n",
    "- it is a probabilistic method mostly used for natural language processing\n",
    "- It calculates probability for each word given the total words.\n",
    "![image-1](./images/naive1.png)\n",
    "![image-2](./images/naive2.png)"
   ]
  },
  {
   "cell_type": "code",
   "execution_count": 45,
   "metadata": {
    "executionInfo": {
     "elapsed": 1196,
     "status": "ok",
     "timestamp": 1635083522028,
     "user": {
      "displayName": "Flask App",
      "photoUrl": "https://lh3.googleusercontent.com/a/default-user=s64",
      "userId": "09047240091770501577"
     },
     "user_tz": -345
    },
    "id": "uQdGFtQV7d7b"
   },
   "outputs": [],
   "source": [
    "from sklearn.model_selection import KFold\n",
    "from sklearn.linear_model import LogisticRegression\n",
    "from sklearn.naive_bayes import MultinomialNB"
   ]
  },
  {
   "cell_type": "code",
   "execution_count": 46,
   "metadata": {
    "executionInfo": {
     "elapsed": 51,
     "status": "ok",
     "timestamp": 1635083522030,
     "user": {
      "displayName": "Flask App",
      "photoUrl": "https://lh3.googleusercontent.com/a/default-user=s64",
      "userId": "09047240091770501577"
     },
     "user_tz": -345
    },
    "id": "mcIGZepg7o7R"
   },
   "outputs": [],
   "source": [
    "# we train our model using tfidfVectorizer\n",
    "\n",
    "# learn more about tfidfvectorizer :-> https://medium.com/@cmukesh8688/tf-idf-vectorizer-scikit-learn-dbc0244a911a\n",
    "\n",
    "from sklearn.feature_extraction.text import TfidfVectorizer\n",
    "from sklearn.metrics import f1_score"
   ]
  },
  {
   "cell_type": "markdown",
   "metadata": {
    "id": "QcPGnLNF9xyh"
   },
   "source": [
    "we will be f1_score to evaluate our model.\n",
    "It can be used to evaluate multi-class classification task.\n",
    "We use a parameter called average, we will be using \"macro\"\n",
    "\n",
    "The macro-average precision and recall score is calculated as arithmetic mean of individual classes' precision and recall scores. The macro-average F1-score is calculated as arithmetic mean of individual classes' F1-score"
   ]
  },
  {
   "cell_type": "code",
   "execution_count": 47,
   "metadata": {
    "executionInfo": {
     "elapsed": 52,
     "status": "ok",
     "timestamp": 1635083522032,
     "user": {
      "displayName": "Flask App",
      "photoUrl": "https://lh3.googleusercontent.com/a/default-user=s64",
      "userId": "09047240091770501577"
     },
     "user_tz": -345
    },
    "id": "Z2Pb38HZ7d-L"
   },
   "outputs": [],
   "source": [
    "def train(model, X_train, y_train, clean_text, start, end):\n",
    "  tfidf = TfidfVectorizer(tokenizer = clean_text, ngram_range = (start, end))\n",
    "  X_train = tfidf.fit_transform(X_train)\n",
    "\n",
    "  model.fit(X_train, y_train)\n",
    "  return model, tfidf"
   ]
  },
  {
   "cell_type": "code",
   "execution_count": 48,
   "metadata": {
    "executionInfo": {
     "elapsed": 51,
     "status": "ok",
     "timestamp": 1635083522032,
     "user": {
      "displayName": "Flask App",
      "photoUrl": "https://lh3.googleusercontent.com/a/default-user=s64",
      "userId": "09047240091770501577"
     },
     "user_tz": -345
    },
    "id": "pj6MV2iU-Xhr"
   },
   "outputs": [],
   "source": [
    "def predict(model, tfidf, X_val, y_val):\n",
    "  X_val = tfidf.transform(X_val)\n",
    "\n",
    "  y_pred = model.predict(X_val)\n",
    "\n",
    "  return y_pred\n"
   ]
  },
  {
   "cell_type": "markdown",
   "metadata": {
    "id": "f5jbnbmcTjpB"
   },
   "source": [
    "### Logistic Regression\n",
    "\n",
    "(Currently the ‘multinomial’ option is supported only by the ‘lbfgs’, ‘sag’, ‘saga’ and ‘newton-cg’ solvers.)\n",
    "\n",
    "We have 3 label, so we have to use a new parameter called 'multi_class' and for solver , one of solvers supported by sklearn should be used.\n",
    "\n"
   ]
  },
  {
   "cell_type": "code",
   "execution_count": 49,
   "metadata": {
    "executionInfo": {
     "elapsed": 50,
     "status": "ok",
     "timestamp": 1635083522033,
     "user": {
      "displayName": "Flask App",
      "photoUrl": "https://lh3.googleusercontent.com/a/default-user=s64",
      "userId": "09047240091770501577"
     },
     "user_tz": -345
    },
    "id": "vO7I3he2-Xk-"
   },
   "outputs": [],
   "source": [
    "import numpy as np\n",
    "\n",
    "def validation(model, n_split, start, end):\n",
    "  kfold = KFold(n_splits = n_split, shuffle=True, random_state = 1)\n",
    "  f1_score_list = []\n",
    "\n",
    "  for train_idx, val_idx in kfold.split(df):\n",
    "    X_train = df.iloc[train_idx]['cleaned_text'].values\n",
    "    X_val = df.iloc[val_idx]['cleaned_text'].values\n",
    "    y_train = df.iloc[train_idx].label\n",
    "    y_val = df.iloc[val_idx].label\n",
    "\n",
    "    model, tfidf = train(model, X_train, y_train, clean_text, start, end)\n",
    "    y_pred = predict(model, tfidf, X_val, y_val)\n",
    "\n",
    "    f1_scores = f1_score(y_val, y_pred, average = \"macro\")\n",
    "    \n",
    "    f1_score_list.append(f1_scores)\n",
    "\n",
    "  return np.mean(f1_score_list)"
   ]
  },
  {
   "cell_type": "markdown",
   "metadata": {
    "id": "A7eUjaG5aJ7a"
   },
   "source": [
    "#### Now, let's do cross validation and choose best C and solver\n"
   ]
  },
  {
   "cell_type": "code",
   "execution_count": 51,
   "metadata": {
    "colab": {
     "base_uri": "https://localhost:8080/"
    },
    "executionInfo": {
     "elapsed": 428269,
     "status": "ok",
     "timestamp": 1635083971419,
     "user": {
      "displayName": "Flask App",
      "photoUrl": "https://lh3.googleusercontent.com/a/default-user=s64",
      "userId": "09047240091770501577"
     },
     "user_tz": -345
    },
    "id": "XvLUNQQKU_uS",
    "outputId": "b6aff2b2-cae4-43b7-f065-ad2a2f0d2fd8"
   },
   "outputs": [
    {
     "name": "stdout",
     "output_type": "stream",
     "text": [
      "C = 1\n",
      "unigram f1_score: [('lbfgs', 0.9623201067777918), ('sag', 0.9623201067777918), ('saga', 0.9624574541893652), ('newton-cg', 0.9623201067777918)]\n",
      "bigram f1_score: [('lbfgs', 0.9567576232843262), ('sag', 0.9567576232843262), ('saga', 0.9566119082653157), ('newton-cg', 0.9567576232843262)]\n",
      "C = 0.1\n",
      "unigram f1_score: [('lbfgs', 0.948809239645741), ('sag', 0.9489459121513111), ('saga', 0.9490782559075273), ('newton-cg', 0.948809239645741)]\n",
      "bigram f1_score: [('lbfgs', 0.9401017096111637), ('sag', 0.940237755779424), ('saga', 0.9403752864281498), ('newton-cg', 0.9401017096111637)]\n",
      "C = 10\n",
      "unigram f1_score: [('lbfgs', 0.9668767648468354), ('sag', 0.9668767648468354), ('saga', 0.9667454467028925), ('newton-cg', 0.9668767648468354)]\n",
      "bigram f1_score: [('lbfgs', 0.961202571271096), ('sag', 0.961202571271096), ('saga', 0.9614720541265298), ('newton-cg', 0.961202571271096)]\n",
      "C = 5\n",
      "unigram f1_score: [('lbfgs', 0.9659415464247612), ('sag', 0.9659415464247612), ('saga', 0.96593448698823), ('newton-cg', 0.9659415464247612)]\n",
      "bigram f1_score: [('lbfgs', 0.9598428005904234), ('sag', 0.9598428005904234), ('saga', 0.9594392271495733), ('newton-cg', 0.9598428005904234)]\n"
     ]
    }
   ],
   "source": [
    "C = [1, 0.1, 10, 5]\n",
    "solvers = ['lbfgs', 'sag', 'saga', 'newton-cg']\n",
    "\n",
    "\n",
    "for c in C:\n",
    "  unigram_ = []\n",
    "  bigram_ = []\n",
    "  for solver in solvers:\n",
    "    model = LogisticRegression(C = c, solver = solver, random_state = 1, max_iter = 1000)\n",
    "    f1_score_unigram = validation(model, 5, 1, 1) # unigram only\n",
    "    f1_score_bigram = validation(model, 5, 1, 2) # unigram and bigram\n",
    "    unigram_.append((solver, f1_score_unigram))\n",
    "    bigram_.append((solver, f1_score_bigram))\n",
    "  print(f\"C = {c}\")\n",
    "  print(f\"unigram f1_score: {unigram_}\")\n",
    "  print(f\"bigram f1_score: {bigram_}\")"
   ]
  },
  {
   "cell_type": "markdown",
   "metadata": {
    "id": "aBjUa0cooW4-"
   },
   "source": [
    "We now got the best c(10) and solver(saga) for logistic regression , now we do same with multinomial Naive Bayes.\n",
    "\n",
    "Note: f1_score is same for C=10 , but we will be using saga because it performs well with big data, and trains faster."
   ]
  },
  {
   "cell_type": "markdown",
   "metadata": {
    "id": "UCFXr50YmBHs"
   },
   "source": [
    "## Multinomial Naive Bayes\n",
    "#### ( we will be tuning alpha parameter( alpha is smoothing parameter) , it helps to tackle the zero probability.\n",
    "#### Default is 1.0"
   ]
  },
  {
   "cell_type": "code",
   "execution_count": 52,
   "metadata": {
    "colab": {
     "base_uri": "https://localhost:8080/"
    },
    "executionInfo": {
     "elapsed": 50549,
     "status": "ok",
     "timestamp": 1635084036536,
     "user": {
      "displayName": "Flask App",
      "photoUrl": "https://lh3.googleusercontent.com/a/default-user=s64",
      "userId": "09047240091770501577"
     },
     "user_tz": -345
    },
    "id": "UdHzdWgzbbIk",
    "outputId": "5239e9b3-b4a7-44a3-f169-9e138af759a9"
   },
   "outputs": [
    {
     "name": "stdout",
     "output_type": "stream",
     "text": [
      "alpha: 1\n",
      "Unigram f1_score: 0.9620292041580054\n",
      "bigram f1_score: 0.9569687396701996\n",
      "alpha: 2\n",
      "Unigram f1_score: 0.9541322738460603\n",
      "bigram f1_score: 0.9482144796615444\n",
      "alpha: 3\n",
      "Unigram f1_score: 0.9477706289334715\n",
      "bigram f1_score: 0.9417645197950483\n",
      "alpha: 4\n",
      "Unigram f1_score: 0.9426427687968781\n",
      "bigram f1_score: 0.9350089304905109\n",
      "alpha: 5\n",
      "Unigram f1_score: 0.9387574500686447\n",
      "bigram f1_score: 0.9269267307966788\n"
     ]
    }
   ],
   "source": [
    "alpha_list = [1, 2, 3, 4, 5]\n",
    "\n",
    "\n",
    "for alpha in alpha_list:\n",
    "  model = MultinomialNB(alpha = alpha)\n",
    "  f1_score_unigram = validation(model, 5, 1, 1) # unigram only\n",
    "  f1_score_bigram = validation(model, 5, 1, 2) # unigram and bigram\n",
    "  print(f\"alpha: {alpha}\")\n",
    "  print(f\"Unigram f1_score: {f1_score_unigram}\")\n",
    "  print(f\"bigram f1_score: {f1_score_bigram}\")\n"
   ]
  },
  {
   "cell_type": "markdown",
   "metadata": {
    "id": "0mv1x_Zvoiku"
   },
   "source": [
    "With the above experiment we came into conclusion that ***logisticregression*** outperforms ***multinomialNaivebayes***.\n",
    "While the ***multinomialNaiveBayes*** takes less time to train the f1_score is lower than what we get when we trained our model using ***logisticregression***."
   ]
  },
  {
   "cell_type": "markdown",
   "metadata": {
    "id": "fC9ViPtplZaO"
   },
   "source": [
    "##Bonus: XGBOOST"
   ]
  },
  {
   "cell_type": "code",
   "execution_count": 57,
   "metadata": {
    "colab": {
     "base_uri": "https://localhost:8080/"
    },
    "executionInfo": {
     "elapsed": 1266817,
     "status": "ok",
     "timestamp": 1635086770519,
     "user": {
      "displayName": "Flask App",
      "photoUrl": "https://lh3.googleusercontent.com/a/default-user=s64",
      "userId": "09047240091770501577"
     },
     "user_tz": -345
    },
    "id": "TWJcKLXmbbLZ",
    "outputId": "233530de-321d-4de9-df4c-0918f48f106c"
   },
   "outputs": [
    {
     "data": {
      "text/plain": [
       "GridSearchCV(cv=5, error_score=nan,\n",
       "             estimator=Pipeline(memory=None,\n",
       "                                steps=[('vectorizer',\n",
       "                                        TfidfVectorizer(analyzer='word',\n",
       "                                                        binary=False,\n",
       "                                                        decode_error='strict',\n",
       "                                                        dtype=<class 'numpy.float64'>,\n",
       "                                                        encoding='utf-8',\n",
       "                                                        input='content',\n",
       "                                                        lowercase=True,\n",
       "                                                        max_df=1.0,\n",
       "                                                        max_features=None,\n",
       "                                                        min_df=1,\n",
       "                                                        ngram_range=(1, 1),\n",
       "                                                        norm='l2',\n",
       "                                                        preprocessor=None,\n",
       "                                                        smooth_idf=True,\n",
       "                                                        stop_words=None,\n",
       "                                                        stri...\n",
       "                         'classifier__learning_rate': [0.1, 0.3, 1],\n",
       "                         'classifier__max_depth': [10, 5, 15],\n",
       "                         'classifier__min_child_weight': [1, 2, 3],\n",
       "                         'classifier__nthread': [8],\n",
       "                         'classifier__num_class': [3],\n",
       "                         'classifier__objective': ['multi:softmax'],\n",
       "                         'classifier__seed': [1],\n",
       "                         'vectorizer__ngram_range': [(1, 1), (1, 2)]},\n",
       "             pre_dispatch='2*n_jobs', refit=True, return_train_score=False,\n",
       "             scoring='f1_macro', verbose=0)"
      ]
     },
     "execution_count": 57,
     "metadata": {},
     "output_type": "execute_result"
    }
   ],
   "source": [
    "from sklearn.model_selection import GridSearchCV, train_test_split\n",
    "from sklearn.pipeline import Pipeline\n",
    "from xgboost.sklearn import XGBClassifier\n",
    "\n",
    "# split x and y\n",
    "X_train, X_val, y_train, y_val = train_test_split(df.paras, df.label, random_state =1, stratify = df.label)\n",
    "X_train = X_train.values\n",
    "X_val = X_val.values\n",
    "\n",
    "tfidf = TfidfVectorizer(tokenizer = clean_text)\n",
    "xgboost = XGBClassifier()\n",
    "\n",
    "\n",
    "pipeline = Pipeline([\n",
    "  (\"vectorizer\", TfidfVectorizer()),\n",
    "  (\"classifier\", XGBClassifier(use_label_encoder = False, n_estimators = 10))\n",
    "])\n",
    "\n",
    "params = {\n",
    "    \"vectorizer__ngram_range\": [(1, 1), (1, 2)],\n",
    "        \"classifier__learning_rate\" : [0.1, 0.3, 1],\n",
    "        \"classifier__max_depth\": [10, 5, 15],\n",
    "        \"classifier__min_child_weight\": [1, 2, 3],\n",
    "        \"classifier__objective\": [\"multi:softmax\"],\n",
    "        \"classifier__nthread\": [8],\n",
    "        \"classifier__num_class\":[3],\n",
    "         \"classifier__seed\": [1],\n",
    "    \"classifier__eval_metric\": [\"auc\"],\n",
    "    }\n",
    "\n",
    "#\n",
    "# print(pipeline.get_params())\n",
    "\n",
    "clf = GridSearchCV(pipeline, param_grid = params, cv=5, scoring=\"f1_macro\")\n",
    "        \n",
    "clf.fit(X_train, y_train)"
   ]
  },
  {
   "cell_type": "code",
   "execution_count": 58,
   "metadata": {
    "colab": {
     "base_uri": "https://localhost:8080/"
    },
    "executionInfo": {
     "elapsed": 7,
     "status": "ok",
     "timestamp": 1635087323255,
     "user": {
      "displayName": "Flask App",
      "photoUrl": "https://lh3.googleusercontent.com/a/default-user=s64",
      "userId": "09047240091770501577"
     },
     "user_tz": -345
    },
    "id": "EHbFYz2gbbN6",
    "outputId": "0a4cca4e-d68b-48f3-adc5-28c016e3697d"
   },
   "outputs": [
    {
     "data": {
      "text/plain": [
       "0.8370838947556617"
      ]
     },
     "execution_count": 58,
     "metadata": {},
     "output_type": "execute_result"
    }
   ],
   "source": [
    "clf.best_score_"
   ]
  },
  {
   "cell_type": "code",
   "execution_count": 59,
   "metadata": {
    "colab": {
     "base_uri": "https://localhost:8080/"
    },
    "executionInfo": {
     "elapsed": 528,
     "status": "ok",
     "timestamp": 1635087332735,
     "user": {
      "displayName": "Flask App",
      "photoUrl": "https://lh3.googleusercontent.com/a/default-user=s64",
      "userId": "09047240091770501577"
     },
     "user_tz": -345
    },
    "id": "p5TsA8mMbbQQ",
    "outputId": "1c1ef0ba-66de-4057-ab99-722582c8757a"
   },
   "outputs": [
    {
     "data": {
      "text/plain": [
       "{'classifier__eval_metric': 'auc',\n",
       " 'classifier__learning_rate': 1,\n",
       " 'classifier__max_depth': 15,\n",
       " 'classifier__min_child_weight': 3,\n",
       " 'classifier__nthread': 8,\n",
       " 'classifier__num_class': 3,\n",
       " 'classifier__objective': 'multi:softmax',\n",
       " 'classifier__seed': 1,\n",
       " 'vectorizer__ngram_range': (1, 2)}"
      ]
     },
     "execution_count": 59,
     "metadata": {},
     "output_type": "execute_result"
    }
   ],
   "source": [
    "clf.best_params_"
   ]
  },
  {
   "cell_type": "markdown",
   "metadata": {
    "id": "X3TlwhgLzOUQ"
   },
   "source": [
    "Xgboost took eternity to train but could not outperform logisticRegression.\n"
   ]
  },
  {
   "cell_type": "code",
   "execution_count": null,
   "metadata": {
    "id": "JIKi8uf8zKnq"
   },
   "outputs": [],
   "source": []
  }
 ],
 "metadata": {
  "colab": {
   "authorship_tag": "ABX9TyNvmhPzdD+bOpBrvI6saQHX",
   "collapsed_sections": [],
   "mount_file_id": "1i4L08tERE91isvRJhNwjXTeX-1986knL",
   "name": "notebook.ipynb",
   "provenance": []
  },
  "kernelspec": {
   "display_name": "Python 3 (ipykernel)",
   "language": "python",
   "name": "python3"
  },
  "language_info": {
   "codemirror_mode": {
    "name": "ipython",
    "version": 3
   },
   "file_extension": ".py",
   "mimetype": "text/x-python",
   "name": "python",
   "nbconvert_exporter": "python",
   "pygments_lexer": "ipython3",
   "version": "3.9.5"
  }
 },
 "nbformat": 4,
 "nbformat_minor": 1
}
