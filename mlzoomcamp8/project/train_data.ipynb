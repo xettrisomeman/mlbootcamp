{
 "cells": [
  {
   "cell_type": "code",
   "execution_count": 1,
   "id": "a17d1701",
   "metadata": {},
   "outputs": [],
   "source": [
    "from model import make_model as CNN\n",
    "\n",
    "import numpy as np\n",
    "\n",
    "import tensorflow as tf\n",
    "from tensorflow import keras\n",
    "from tensorflow.keras.preprocessing.image import ImageDataGenerator"
   ]
  },
  {
   "cell_type": "code",
   "execution_count": 2,
   "id": "c6ae8a70",
   "metadata": {},
   "outputs": [],
   "source": [
    "# question 1: The best loss function?\n",
    "# answer : binaryCrossEntropyloss()\n"
   ]
  },
  {
   "cell_type": "code",
   "execution_count": 3,
   "id": "378a2f36",
   "metadata": {},
   "outputs": [
    {
     "name": "stdout",
     "output_type": "stream",
     "text": [
      "Model: \"sequential\"\n",
      "_________________________________________________________________\n",
      " Layer (type)                Output Shape              Param #   \n",
      "=================================================================\n",
      " conv2d (Conv2D)             (None, 148, 148, 32)      896       \n",
      "                                                                 \n",
      " max_pooling2d (MaxPooling2D  (None, 74, 74, 32)       0         \n",
      " )                                                               \n",
      "                                                                 \n",
      " flatten (Flatten)           (None, 175232)            0         \n",
      "                                                                 \n",
      " dense (Dense)               (None, 64)                11214912  \n",
      "                                                                 \n",
      " dense_1 (Dense)             (None, 1)                 65        \n",
      "                                                                 \n",
      "=================================================================\n",
      "Total params: 11,215,873\n",
      "Trainable params: 11,215,873\n",
      "Non-trainable params: 0\n",
      "_________________________________________________________________\n",
      "None\n"
     ]
    }
   ],
   "source": [
    "print(CNN().summary())"
   ]
  },
  {
   "cell_type": "code",
   "execution_count": 4,
   "id": "c252d2cd",
   "metadata": {},
   "outputs": [],
   "source": [
    "# Question 2: total_parameters :-> 11, 215, 873"
   ]
  },
  {
   "cell_type": "markdown",
   "id": "d70bbca1",
   "metadata": {},
   "source": [
    "# Generators and Training"
   ]
  },
  {
   "cell_type": "code",
   "execution_count": 5,
   "id": "8ca22b85",
   "metadata": {},
   "outputs": [],
   "source": [
    "def generator(train, **kwargs):\n",
    "    gen_ = ImageDataGenerator(**kwargs)\n",
    "    if train:\n",
    "        return gen_.flow_from_directory(\"./train\",\n",
    "                                       target_size = (150, 150),\n",
    "                                       batch_size = 20, class_mode = \"binary\")\n",
    "    return gen_.flow_from_directory(\"./validation\", target_size = (150, 150),\n",
    "                                   batch_size = 20, class_mode = \"binary\")"
   ]
  },
  {
   "cell_type": "code",
   "execution_count": 6,
   "id": "a0cfb99d",
   "metadata": {},
   "outputs": [],
   "source": [
    "def train_model(model, train_generator, validation_generator, aug=False):\n",
    "    history = model.fit(\n",
    "    train_generator,\n",
    "        steps_per_epoch = 100,\n",
    "        epochs = 10,\n",
    "        validation_data = validation_generator,\n",
    "        validation_steps = 50,\n",
    "    )\n",
    "    if aug:\n",
    "        return np.mean(history.history[\"val_loss\"]), history.history[\"val_accuracy\"]\n",
    "    return np.median(history.history[\"accuracy\"]), np.std(history.history[\"loss\"])"
   ]
  },
  {
   "cell_type": "code",
   "execution_count": 7,
   "id": "0033d440",
   "metadata": {},
   "outputs": [
    {
     "name": "stdout",
     "output_type": "stream",
     "text": [
      "Found 20000 images belonging to 2 classes.\n",
      "Found 5000 images belonging to 2 classes.\n"
     ]
    }
   ],
   "source": [
    "train_generator = generator(train = True, rescale=1./255)\n",
    "validation_generator = generator(train = False, rescale=1./255)\n"
   ]
  },
  {
   "cell_type": "code",
   "execution_count": 8,
   "id": "07bb9ce5",
   "metadata": {},
   "outputs": [],
   "source": [
    "model = CNN()\n",
    "optimizer = keras.optimizers.SGD(learning_rate = 2e-3, momentum = 8e-1)\n",
    "loss_fn = keras.losses.BinaryCrossentropy()\n",
    "    \n",
    "model.compile(optimizer = optimizer, loss=loss_fn, metrics = [\"accuracy\"])"
   ]
  },
  {
   "cell_type": "code",
   "execution_count": 9,
   "id": "3a5812cd",
   "metadata": {},
   "outputs": [
    {
     "name": "stdout",
     "output_type": "stream",
     "text": [
      "Epoch 1/10\n",
      "100/100 [==============================] - 24s 237ms/step - loss: 0.7043 - accuracy: 0.5230 - val_loss: 0.6821 - val_accuracy: 0.5600\n",
      "Epoch 2/10\n",
      "100/100 [==============================] - 24s 238ms/step - loss: 0.6838 - accuracy: 0.5630 - val_loss: 0.6787 - val_accuracy: 0.5740\n",
      "Epoch 3/10\n",
      "100/100 [==============================] - 28s 281ms/step - loss: 0.6761 - accuracy: 0.5725 - val_loss: 0.6707 - val_accuracy: 0.5760\n",
      "Epoch 4/10\n",
      "100/100 [==============================] - 28s 283ms/step - loss: 0.6665 - accuracy: 0.5870 - val_loss: 0.6727 - val_accuracy: 0.5670\n",
      "Epoch 5/10\n",
      "100/100 [==============================] - 28s 284ms/step - loss: 0.6666 - accuracy: 0.5895 - val_loss: 0.6637 - val_accuracy: 0.5860\n",
      "Epoch 6/10\n",
      "100/100 [==============================] - 27s 267ms/step - loss: 0.6575 - accuracy: 0.5995 - val_loss: 0.6740 - val_accuracy: 0.5600\n",
      "Epoch 7/10\n",
      "100/100 [==============================] - 31s 306ms/step - loss: 0.6439 - accuracy: 0.6135 - val_loss: 0.6595 - val_accuracy: 0.5820\n",
      "Epoch 8/10\n",
      "100/100 [==============================] - 26s 261ms/step - loss: 0.6592 - accuracy: 0.6150 - val_loss: 0.6685 - val_accuracy: 0.5860\n",
      "Epoch 9/10\n",
      "100/100 [==============================] - 27s 271ms/step - loss: 0.6351 - accuracy: 0.6360 - val_loss: 0.6338 - val_accuracy: 0.6270\n",
      "Epoch 10/10\n",
      "100/100 [==============================] - 28s 276ms/step - loss: 0.6371 - accuracy: 0.6285 - val_loss: 0.6463 - val_accuracy: 0.6090\n"
     ]
    }
   ],
   "source": [
    "tr_med_accu, tr_std_loss = train_model(model, train_generator, validation_generator, aug=False)"
   ]
  },
  {
   "cell_type": "code",
   "execution_count": 10,
   "id": "e27506df",
   "metadata": {},
   "outputs": [
    {
     "name": "stdout",
     "output_type": "stream",
     "text": [
      "Median training accuracy: 0.5945000052452087\n",
      "Traning loss standard deviation: 0.020492336742692758\n"
     ]
    }
   ],
   "source": [
    "# Question 3: median of training accuracy?\n",
    "print(f\"Median training accuracy: {tr_med_accu}\")\n",
    "\n",
    "# question 4: standard deviation of training loss?\n",
    "print(f\"Traning loss standard deviation: {tr_std_loss}\")"
   ]
  },
  {
   "cell_type": "code",
   "execution_count": 11,
   "id": "83f670d1",
   "metadata": {},
   "outputs": [],
   "source": [
    "extra_kwargs = {\n",
    "         \"rotation_range\": 40,\n",
    "        \"width_shift_range\": 0.2,\n",
    "        \"height_shift_range\": 0.2,\n",
    "        \"shear_range\": 0.2,\n",
    "         \"zoom_range\": 0.2,\n",
    "        \"horizontal_flip\": True,\n",
    "         \"fill_mode\": 'nearest',\n",
    "}"
   ]
  },
  {
   "cell_type": "code",
   "execution_count": 12,
   "id": "6f197de4",
   "metadata": {},
   "outputs": [
    {
     "name": "stdout",
     "output_type": "stream",
     "text": [
      "Found 20000 images belonging to 2 classes.\n",
      "Found 5000 images belonging to 2 classes.\n"
     ]
    }
   ],
   "source": [
    "train_generator = generator(train=True, **extra_kwargs)\n",
    "validation_generator = generator(train=False, **extra_kwargs)"
   ]
  },
  {
   "cell_type": "code",
   "execution_count": 13,
   "id": "3d9326dd",
   "metadata": {},
   "outputs": [
    {
     "name": "stdout",
     "output_type": "stream",
     "text": [
      "Epoch 1/10\n",
      "100/100 [==============================] - 33s 325ms/step - loss: 37.8040 - accuracy: 0.4995 - val_loss: 0.6979 - val_accuracy: 0.4810\n",
      "Epoch 2/10\n",
      "100/100 [==============================] - 35s 348ms/step - loss: 0.6937 - accuracy: 0.4945 - val_loss: 0.6943 - val_accuracy: 0.4970\n",
      "Epoch 3/10\n",
      "100/100 [==============================] - 35s 352ms/step - loss: 0.6927 - accuracy: 0.5160 - val_loss: 0.6944 - val_accuracy: 0.5030\n",
      "Epoch 4/10\n",
      "100/100 [==============================] - 33s 324ms/step - loss: 0.6929 - accuracy: 0.5130 - val_loss: 0.6945 - val_accuracy: 0.4740\n",
      "Epoch 5/10\n",
      "100/100 [==============================] - 34s 336ms/step - loss: 0.6940 - accuracy: 0.4815 - val_loss: 0.6940 - val_accuracy: 0.4580\n",
      "Epoch 6/10\n",
      "100/100 [==============================] - 33s 334ms/step - loss: 0.6932 - accuracy: 0.4990 - val_loss: 0.6932 - val_accuracy: 0.4900\n",
      "Epoch 7/10\n",
      "100/100 [==============================] - 32s 318ms/step - loss: 0.6931 - accuracy: 0.5125 - val_loss: 0.6938 - val_accuracy: 0.4920\n",
      "Epoch 8/10\n",
      "100/100 [==============================] - 31s 309ms/step - loss: 0.6934 - accuracy: 0.4940 - val_loss: 0.6934 - val_accuracy: 0.4820\n",
      "Epoch 9/10\n",
      "100/100 [==============================] - 31s 310ms/step - loss: 0.6932 - accuracy: 0.4925 - val_loss: 0.6932 - val_accuracy: 0.4850\n",
      "Epoch 10/10\n",
      "100/100 [==============================] - 31s 314ms/step - loss: 0.6933 - accuracy: 0.4970 - val_loss: 0.6933 - val_accuracy: 0.4900\n"
     ]
    }
   ],
   "source": [
    "mean_val_loss, val_accuracy = train_model(model, train_generator, validation_generator, aug=True)"
   ]
  },
  {
   "cell_type": "code",
   "execution_count": 14,
   "id": "d68d21e7",
   "metadata": {},
   "outputs": [
    {
     "name": "stdout",
     "output_type": "stream",
     "text": [
      "Median validation loss: 0.6941949903964997\n"
     ]
    }
   ],
   "source": [
    "# Question 5: validation mean loss after augmentation?\n",
    "print(f\"Median validation loss: {mean_val_loss}\")"
   ]
  },
  {
   "cell_type": "code",
   "execution_count": 18,
   "id": "7bf5c52e",
   "metadata": {},
   "outputs": [
    {
     "name": "stdout",
     "output_type": "stream",
     "text": [
      "0.48780000805854795\n"
     ]
    }
   ],
   "source": [
    "# question 6: average of validation accuracy for last 5 epochs\n",
    "print(np.mean(val_accuracy[5:10]))"
   ]
  },
  {
   "cell_type": "code",
   "execution_count": null,
   "id": "b98bf442",
   "metadata": {},
   "outputs": [],
   "source": []
  }
 ],
 "metadata": {
  "kernelspec": {
   "display_name": "Python 3.9.5 64-bit ('nlp': conda)",
   "language": "python",
   "name": "python395jvsc74a57bd0f053688784ef19aeacaa34b7195389deb3a9080c812ee5ea44007b3e3d57c6c2"
  },
  "language_info": {
   "codemirror_mode": {
    "name": "ipython",
    "version": 3
   },
   "file_extension": ".py",
   "mimetype": "text/x-python",
   "name": "python",
   "nbconvert_exporter": "python",
   "pygments_lexer": "ipython3",
   "version": "3.9.5"
  }
 },
 "nbformat": 4,
 "nbformat_minor": 5
}
